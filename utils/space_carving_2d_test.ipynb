{
 "cells": [
  {
   "cell_type": "code",
   "execution_count": 100,
   "id": "08ae8b97",
   "metadata": {
    "ExecuteTime": {
     "end_time": "2022-04-25T11:35:03.069964Z",
     "start_time": "2022-04-25T11:35:03.063823Z"
    }
   },
   "outputs": [],
   "source": [
    "#from scipy.ndimage.interpolation import rotate\n",
    "from scipy.ndimage import rotate\n",
    "import matplotlib.pyplot as plt\n",
    "import matplotlib\n",
    "import open3d as o3d\n",
    "import cl\n",
    "import utils as ut\n",
    "import numpy as np\n",
    "from skimage.morphology import binary_dilation\n",
    "import proc3d\n",
    "import json\n",
    "from PIL import Image\n",
    "from utils import *\n",
    "import glob\n",
    "import os\n",
    "%matplotlib widget\n",
    "# %matplotlib inline"
   ]
  },
  {
   "cell_type": "code",
   "execution_count": 110,
   "id": "cfca0fd2",
   "metadata": {
    "ExecuteTime": {
     "end_time": "2022-04-25T19:51:41.079590Z",
     "start_time": "2022-04-25T19:51:41.053099Z"
    }
   },
   "outputs": [],
   "source": [
    "'''import open3d as o3d\n",
    "import cl\n",
    "import utils as ut\n",
    "import numpy as np\n",
    "from skimage.morphology import binary_dilation\n",
    "import proc3d\n",
    "import json\n",
    "from PIL import Image\n",
    "from utils import *\n",
    "import glob\n",
    "import os\n",
    "import cv2\n",
    "from scipy.ndimage.interpolation import rotate'''\n",
    "\n",
    "\n",
    "class space_carving_2d():\n",
    "    def __init__(self, model_path, gt_mode=False, theta_bias=0, total_theta_positions=180):\n",
    "        # theta position bias for simulating rotation of position of the object\n",
    "        self.theta_bias = theta_bias\n",
    "        \n",
    "        # number of posible positions around the circle\n",
    "        self.total_theta_positions = total_theta_positions\n",
    "        \n",
    "        # get all .png file names from folder path\n",
    "        self.masks_files = sorted(\n",
    "            glob.glob(os.path.join(model_path, 'masks', '*.png')))\n",
    "        \n",
    "        self.extrinsics = self.load_extrinsics(\n",
    "            os.path.join(model_path, 'extrinsics'))\n",
    "        \n",
    "        self.bbox = json.load(\n",
    "            open(os.path.join(model_path, 'bbox_general.json')))\n",
    "        #self.bbox = json.load(open(os.path.join(\n",
    "        #    model_path, '/home/pico/uni/romi/scanner_cube/bbox_min_max.json')))\n",
    "        \n",
    "        self.camera_model = json.load(\n",
    "            open(os.path.join(model_path, 'camera_model.json')))\n",
    "        self.intrinsics = self.camera_model['params'][0:4]\n",
    "\n",
    "        params = json.load(open(os.path.join(model_path, 'params.json')))\n",
    "        self.n_dilation = params[\"sc\"][\"n_dilation\"]\n",
    "        self.voxel_size = params['sc']['voxel_size']\n",
    "\n",
    "        self.gt_mode = gt_mode\n",
    "\n",
    "        # uses ground truth model \n",
    "        if self.gt_mode is True:\n",
    "            self.gt = np.load(os.path.join(\n",
    "                model_path, 'volumes', 'vol_64x64x64.npy'))\n",
    "            self.gt_solid_mask = np.where(self.gt == 1, True, False)\n",
    "            self.gt_n_solid_voxels = np.count_nonzero(self.gt_solid_mask)\n",
    "\n",
    "        self.set_sc(self.bbox)\n",
    "\n",
    "    def reset(self):\n",
    "        del(self.sc)\n",
    "        self.set_sc(self.bbox)\n",
    "\n",
    "    def load_extrinsics(self, path):\n",
    "        ext = []\n",
    "        ext_files = glob.glob(os.path.join(path, '*.json'))\n",
    "        assert len(ext_files) != 0, \"json list is empty.\"\n",
    "        for i in sorted(ext_files):\n",
    "            ext.append(json.load(open(i)))\n",
    "        return ext\n",
    "\n",
    "    def load_mask(self, idx):\n",
    "        img = cv2.imread(self.masks_files[idx], cv2.IMREAD_GRAYSCALE)\n",
    "        return img\n",
    "\n",
    "    def set_sc(self, bbox):\n",
    "        x_min, x_max = bbox['x']\n",
    "        y_min, y_max = bbox['y']\n",
    "        z_min, z_max = bbox['z']\n",
    "\n",
    "        nx = int((x_max - x_min) / self.voxel_size) + 1\n",
    "        ny = int((y_max - y_min) / self.voxel_size) + 1\n",
    "        nz = int((z_max - z_min) / self.voxel_size) + 1\n",
    "\n",
    "        self.origin = np.array([x_min, y_min, z_min])\n",
    "        self.sc = cl.Backprojection(\n",
    "            [nx, ny, nz], [x_min, y_min, z_min], self.voxel_size)\n",
    "        self.volume = self.sc.values()\n",
    "\n",
    "    def carve(self, theta, phi):\n",
    "        '''space carve in position phi(rows),theta(cols)\n",
    "        phi and theta are steps of the scanner, not angles'''\n",
    "        # if using theta bias add it to get the real theta position\n",
    "        if self.theta_bias != 0:\n",
    "            theta = self.calculate_theta_position(theta, -self.theta_bias)\n",
    "\n",
    "        idx = (self.total_theta_positions * phi) + theta\n",
    "\n",
    "        im = self.load_mask(idx)\n",
    "        self.space_carve(im, self.extrinsics[idx])\n",
    "\n",
    "        if self.theta_bias == 0:\n",
    "            self.volume = self.sc.values()\n",
    "        else:\n",
    "            # convert theta bias  to degrees and rotate volume to\n",
    "            # biased position\n",
    "            self.volume = rotate(self.sc.values(),\n",
    "                angle=self.theta_bias*(360//self.total_theta_positions), reshape=False)\n",
    "            \n",
    "        #rotate according with position of camera plane xy is always pointing where camera sees\n",
    "        #self.volume = rotate(self.sc.values(),angle=-idx*(360//self.total_theta_positions),reshape=False)\n",
    "\n",
    "    def space_carve(self, mask, rt):\n",
    "        '''do space carving on mask with preset parameters'''\n",
    "        # mask = im.copy() #get_mask(im)\n",
    "        rot = sum(rt['R'], [])\n",
    "        tvec = rt['T']\n",
    "        if self.n_dilation:\n",
    "            for k in range(self.n_dilation):\n",
    "                mask = binary_dilation(mask)\n",
    "        self.sc.process_view(self.intrinsics, rot, tvec, mask)\n",
    "\n",
    "    def gt_compare(self):\n",
    "        '''compares current volume with ground truth (voxelwise) and returns percentage'''\n",
    "        if self.gt_mode is False:\n",
    "            return 0\n",
    "        comp = np.where(self.gt == self.sc.values(), True, False)\n",
    "        eq_count = np.count_nonzero(comp)\n",
    "        #perc_sim = (eq_count/np.prod(gt_vol.shape) )*100.\n",
    "        # perc_sim = (eq_count/682176)*100. #682176number of voxels of the volumes used here\n",
    "        perc_sim = eq_count * 0.00014658973637301812\n",
    "        return perc_sim\n",
    "\n",
    "    def gt_compare_solid(self):\n",
    "        ''' returns intersection of solid voxels (with 1;s) between ground truth and test_vol.\n",
    "        It is the ratio between the intersecting solid voxels of current volume and groundtruth, \n",
    "        and the total numer of solid voxels found in both volumes'''\n",
    "        if self.gt_mode is False:\n",
    "            return 0\n",
    "        \n",
    "        # gets solid voxels array in current volume\n",
    "        vol_solid_mask = np.where(self.sc.values() == 1, True, False)\n",
    "        \n",
    "        #gets the total number of solid voxels in current volume\n",
    "        vol_n_solid_voxels = np.count_nonzero(vol_solid_mask)\n",
    "        \n",
    "        #gets number of solid voxels that intersect current vol and GroundTruth\n",
    "        intersection = self.gt_solid_mask & vol_solid_mask\n",
    "        n_intersection = np.count_nonzero(intersection)\n",
    "        \n",
    "        ratio = n_intersection / \\\n",
    "            (self.gt_n_solid_voxels + vol_n_solid_voxels - n_intersection)\n",
    "        return ratio\n",
    "\n",
    "    def calculate_theta_position(self, init_state, steps):\n",
    "        '''calculates theta position (in steps) from current theta plus n steps'''\n",
    "        n_pos = init_state + steps\n",
    "        if n_pos > (self.total_theta_positions-1):\n",
    "            n_pos -= self.total_theta_positions\n",
    "        elif n_pos < 0:\n",
    "            n_pos += self.total_theta_positions\n",
    "        return n_pos"
   ]
  },
  {
   "cell_type": "code",
   "execution_count": 145,
   "id": "4b224c4a",
   "metadata": {
    "ExecuteTime": {
     "end_time": "2022-04-25T21:37:13.386089Z",
     "start_time": "2022-04-25T21:37:13.355640Z"
    }
   },
   "outputs": [],
   "source": [
    "class space_carving_rotation_2d():\n",
    "    def __init__(self, model_path, gt_mode=False, theta_bias=0, total_theta_positions=180):\n",
    "        # theta position bias for simulating rotation of position of the object\n",
    "        self.theta_bias = theta_bias\n",
    "        \n",
    "        # number of posible positions around the circle\n",
    "        self.total_theta_positions = total_theta_positions\n",
    "        \n",
    "        # get all .png file names from folder path\n",
    "        self.masks_files = sorted(\n",
    "            glob.glob(os.path.join(model_path, 'masks', '*.png')))\n",
    "        \n",
    "        self.extrinsics = self.load_extrinsics(\n",
    "            os.path.join(model_path, 'extrinsics'))\n",
    "        \n",
    "        self.bbox = json.load(\n",
    "            open(os.path.join(model_path, 'bbox_general.json')))\n",
    "        #self.bbox = json.load(open(os.path.join(\n",
    "        #    model_path, '/home/pico/uni/romi/scanner_cube/bbox_min_max.json')))\n",
    "        \n",
    "        self.camera_model = json.load(\n",
    "            open(os.path.join(model_path, 'camera_model.json')))\n",
    "        self.intrinsics = self.camera_model['params'][0:4]\n",
    "\n",
    "        params = json.load(open(os.path.join(model_path, 'params.json')))\n",
    "        self.n_dilation = params[\"sc\"][\"n_dilation\"]\n",
    "        self.voxel_size = params['sc']['voxel_size']\n",
    "\n",
    "        self.gt_mode = gt_mode\n",
    "\n",
    "        # uses ground truth model \n",
    "        if self.gt_mode is True:\n",
    "            self.gt = np.load(os.path.join(\n",
    "                model_path, 'volumes', 'vol_64x64x64.npy'))\n",
    "            self.gt_solid_mask = np.where(self.gt == 1, True, False)\n",
    "            self.gt_n_solid_voxels = np.count_nonzero(self.gt_solid_mask)\n",
    "\n",
    "        self.set_sc(self.bbox)\n",
    "\n",
    "    def reset(self):\n",
    "        del(self.sc)\n",
    "        self.set_sc(self.bbox)\n",
    "\n",
    "    def load_extrinsics(self, path):\n",
    "        ext = []\n",
    "        ext_files = glob.glob(os.path.join(path, '*.json'))\n",
    "        assert len(ext_files) != 0, \"json list is empty.\"\n",
    "        for i in sorted(ext_files):\n",
    "            ext.append(json.load(open(i)))\n",
    "        return ext\n",
    "\n",
    "    def load_mask(self, idx):\n",
    "        img = cv2.imread(self.masks_files[idx], cv2.IMREAD_GRAYSCALE)\n",
    "        return img\n",
    "\n",
    "    def set_sc(self, bbox):\n",
    "        x_min, x_max = bbox['x']\n",
    "        y_min, y_max = bbox['y']\n",
    "        z_min, z_max = bbox['z']\n",
    "\n",
    "        nx = int((x_max - x_min) / self.voxel_size) + 1\n",
    "        ny = int((y_max - y_min) / self.voxel_size) + 1\n",
    "        nz = int((z_max - z_min) / self.voxel_size) + 1\n",
    "\n",
    "        self.origin = np.array([x_min, y_min, z_min])\n",
    "        self.sc = cl.Backprojection(\n",
    "            [nx, ny, nz], [x_min, y_min, z_min], self.voxel_size)\n",
    "        self.volume = self.sc.values()\n",
    "\n",
    "    def carve(self, theta, phi):\n",
    "        '''space carve in position phi(rows),theta(cols)\n",
    "        phi and theta are steps of the scanner, not angles'''\n",
    "        # if using theta bias, use image of biased (shifted)theta with extrinsics\n",
    "        #of current position to create a rotate model\n",
    "        biased_theta = self.calculate_theta_position(theta, -self.theta_bias)\n",
    "        image_idx = (self.total_theta_positions * phi) + biased_theta\n",
    "        \n",
    "        extrinsics_idx = (self.total_theta_positions * phi) + theta\n",
    "        \n",
    "        im = self.load_mask(image_idx)\n",
    "        self.space_carve(im, self.extrinsics[extrinsics_idx])\n",
    "\n",
    "        self.volume = self.sc.values()\n",
    "\n",
    "    def space_carve(self, mask, rt):\n",
    "        '''do space carving on mask with preset parameters'''\n",
    "        # mask = im.copy() #get_mask(im)\n",
    "        rot = sum(rt['R'], [])\n",
    "        tvec = rt['T']\n",
    "        if self.n_dilation:\n",
    "            for k in range(self.n_dilation):\n",
    "                mask = binary_dilation(mask)\n",
    "        self.sc.process_view(self.intrinsics, rot, tvec, mask)\n",
    "\n",
    "    def gt_compare(self):\n",
    "        '''compares current volume with ground truth (voxelwise) and returns percentage'''\n",
    "        if self.gt_mode is False:\n",
    "            return 0\n",
    "        comp = np.where(self.gt == self.sc.values(), True, False)\n",
    "        eq_count = np.count_nonzero(comp)\n",
    "        #perc_sim = (eq_count/np.prod(gt_vol.shape) )*100.\n",
    "        # perc_sim = (eq_count/682176)*100. #682176number of voxels of the volumes used here\n",
    "        perc_sim = eq_count * 0.00014658973637301812\n",
    "        return perc_sim\n",
    "\n",
    "    def gt_compare_solid(self):\n",
    "        ''' returns intersection of solid voxels (with 1;s) between ground truth and test_vol.\n",
    "        It is the ratio between the intersecting solid voxels of current volume and groundtruth, \n",
    "        and the total numer of solid voxels found in both volumes'''\n",
    "        if self.gt_mode is False:\n",
    "            return 0\n",
    "        \n",
    "        # gets solid voxels array in current volume\n",
    "        vol_solid_mask = np.where(self.sc.values() == 1, True, False)\n",
    "        \n",
    "        #gets the total number of solid voxels in current volume\n",
    "        vol_n_solid_voxels = np.count_nonzero(vol_solid_mask)\n",
    "        \n",
    "        #gets number of solid voxels that intersect current vol and GroundTruth\n",
    "        intersection = self.gt_solid_mask & vol_solid_mask\n",
    "        n_intersection = np.count_nonzero(intersection)\n",
    "        \n",
    "        ratio = n_intersection / \\\n",
    "            (self.gt_n_solid_voxels + vol_n_solid_voxels - n_intersection)\n",
    "        return ratio\n",
    "\n",
    "    def calculate_theta_position(self, init_state, steps):\n",
    "        '''calculates theta position (in steps) from current theta plus n steps'''\n",
    "        n_pos = init_state + steps\n",
    "        if n_pos > (self.total_theta_positions-1):\n",
    "            n_pos -= self.total_theta_positions\n",
    "        elif n_pos < 0:\n",
    "            n_pos += self.total_theta_positions\n",
    "        return n_pos"
   ]
  },
  {
   "cell_type": "code",
   "execution_count": 112,
   "id": "c870bd0b",
   "metadata": {
    "ExecuteTime": {
     "end_time": "2022-04-25T19:51:43.629074Z",
     "start_time": "2022-04-25T19:51:43.613351Z"
    }
   },
   "outputs": [],
   "source": [
    "def plot_vol(vol):\n",
    "    # for creating a responsive plot\n",
    "    %matplotlib widget\n",
    "\n",
    "    # importing required libraries\n",
    "    from mpl_toolkits.mplot3d import Axes3D\n",
    "    import matplotlib.pyplot as plt\n",
    "\n",
    "    #x,y,z = np.where(vol[:64,:64,:128]==1)\n",
    "    \n",
    "    x,y,z = np.where(vol==1)\n",
    "\n",
    "    # creating figure\n",
    "    fig = plt.figure()\n",
    "    ax = Axes3D(fig)\n",
    "\n",
    "    #ax.set_xlim3d(0, 10)\n",
    "    #ax.set_ylim3d(0, 10)\n",
    "    #ax.set_zlim3d(0, 10)\n",
    "\n",
    "    #ax.set_xlim3d(0, 140)\n",
    "    #ax.set_ylim3d(0, 140)\n",
    "    #ax.set_zlim3d(0, 140)\n",
    "\n",
    "    # creating the plot\n",
    "    ax.scatter(x, y, z, color='green',s=1)\n",
    "\n",
    "    #x,y,z = np.where(spc.sc.values()==0)\n",
    "    #plot_geeks = ax.scatter(x, y, z, color='red',s=1)\n",
    "\n",
    "    # setting title and labels\n",
    "    ax.set_title(\"3D plot\")\n",
    "    ax.set_xlabel('x-axis')\n",
    "    ax.set_ylabel('y-axis')\n",
    "    ax.set_zlabel('z-axis')\n",
    "    ax.grid()\n",
    "    \n",
    "    #make  0 origin coincide in all axis\n",
    "    ax.xaxis._axinfo['juggled'] = (0,0,0)\n",
    "    ax.yaxis._axinfo['juggled'] = (1,1,1)\n",
    "    ax.zaxis._axinfo['juggled'] = (2,2,2)\n",
    "    \n",
    "    ax.view_init(90, 0)\n",
    "\n",
    "    # displaying the plot\n",
    "    plt.show()"
   ]
  },
  {
   "cell_type": "code",
   "execution_count": 175,
   "id": "860f8e75",
   "metadata": {
    "ExecuteTime": {
     "end_time": "2022-04-25T22:04:46.162542Z",
     "start_time": "2022-04-25T22:04:46.102207Z"
    }
   },
   "outputs": [],
   "source": [
    "data_path = '/home/pico/uni/romi/scanner-gym_models/210_2d'\n",
    "spc = space_carving_rotation_2d(data_path, theta_bias=22 ,gt_mode=True)"
   ]
  },
  {
   "cell_type": "code",
   "execution_count": 176,
   "id": "d3587e91",
   "metadata": {
    "ExecuteTime": {
     "end_time": "2022-04-25T22:04:47.096115Z",
     "start_time": "2022-04-25T22:04:47.057343Z"
    }
   },
   "outputs": [],
   "source": [
    "spc.carve(22,0)"
   ]
  },
  {
   "cell_type": "code",
   "execution_count": 177,
   "id": "d9314cf9",
   "metadata": {
    "ExecuteTime": {
     "end_time": "2022-04-25T22:04:51.083609Z",
     "start_time": "2022-04-25T22:04:47.612526Z"
    }
   },
   "outputs": [],
   "source": [
    "for i in range(180):\n",
    "    spc.carve(i,0)"
   ]
  },
  {
   "cell_type": "raw",
   "id": "273a542b",
   "metadata": {
    "ExecuteTime": {
     "end_time": "2022-04-25T11:04:17.081811Z",
     "start_time": "2022-04-25T11:04:02.481126Z"
    }
   },
   "source": [
    "for j in range(4):\n",
    "        for i in range(180):\n",
    "            spc.carve(i,j)"
   ]
  },
  {
   "cell_type": "code",
   "execution_count": 179,
   "id": "9759cbf9",
   "metadata": {
    "ExecuteTime": {
     "end_time": "2022-04-25T22:06:17.906957Z",
     "start_time": "2022-04-25T22:06:17.866680Z"
    }
   },
   "outputs": [
    {
     "data": {
      "application/vnd.jupyter.widget-view+json": {
       "model_id": "90f8d8a69e304f30be05d2aa7a0cc1f6",
       "version_major": 2,
       "version_minor": 0
      },
      "text/plain": [
       "Canvas(toolbar=Toolbar(toolitems=[('Home', 'Reset original view', 'home', 'home'), ('Back', 'Back to previous …"
      ]
     },
     "metadata": {},
     "output_type": "display_data"
    }
   ],
   "source": [
    "plot_vol(spc.volume)"
   ]
  },
  {
   "cell_type": "code",
   "execution_count": 167,
   "id": "34fd3418",
   "metadata": {
    "ExecuteTime": {
     "end_time": "2022-04-24T20:32:31.336123Z",
     "start_time": "2022-04-24T20:32:31.331088Z"
    }
   },
   "outputs": [
    {
     "data": {
      "text/plain": [
       "(64, 64, 64)"
      ]
     },
     "execution_count": 167,
     "metadata": {},
     "output_type": "execute_result"
    }
   ],
   "source": [
    "spc.volume.shape"
   ]
  },
  {
   "cell_type": "code",
   "execution_count": 88,
   "id": "ea3f7ab2",
   "metadata": {
    "ExecuteTime": {
     "end_time": "2022-04-25T11:27:31.567873Z",
     "start_time": "2022-04-25T11:27:31.559677Z"
    }
   },
   "outputs": [
    {
     "data": {
      "text/plain": [
       "0.6907061900610287"
      ]
     },
     "execution_count": 88,
     "metadata": {},
     "output_type": "execute_result"
    }
   ],
   "source": [
    "spc.gt_compare_solid()"
   ]
  },
  {
   "cell_type": "code",
   "execution_count": null,
   "id": "c386f4ce",
   "metadata": {},
   "outputs": [],
   "source": []
  }
 ],
 "metadata": {
  "kernelspec": {
   "display_name": "rl",
   "language": "python",
   "name": "rl"
  },
  "language_info": {
   "codemirror_mode": {
    "name": "ipython",
    "version": 3
   },
   "file_extension": ".py",
   "mimetype": "text/x-python",
   "name": "python",
   "nbconvert_exporter": "python",
   "pygments_lexer": "ipython3",
   "version": "3.8.8"
  }
 },
 "nbformat": 4,
 "nbformat_minor": 5
}
