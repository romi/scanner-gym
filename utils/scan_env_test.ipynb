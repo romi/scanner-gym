{
 "cells": [
  {
   "cell_type": "code",
   "execution_count": 1,
   "id": "7c9db917",
   "metadata": {
    "ExecuteTime": {
     "end_time": "2022-05-02T19:14:56.029925Z",
     "start_time": "2022-05-02T19:14:55.793003Z"
    }
   },
   "outputs": [],
   "source": [
    "import matplotlib.pyplot as plt\n",
    "import matplotlib\n",
    "\n",
    "import numpy as np\n",
    "import gym\n",
    "\n",
    "from scan_gym import envs\n",
    "#imp.reload(envs)\n",
    "\n",
    "#seed=42\n",
    "#np.random.seed(seed)\n",
    "\n",
    "import random"
   ]
  },
  {
   "cell_type": "code",
   "execution_count": 2,
   "id": "f0653ff9",
   "metadata": {
    "ExecuteTime": {
     "end_time": "2022-05-02T19:14:56.152225Z",
     "start_time": "2022-05-02T19:14:56.136161Z"
    }
   },
   "outputs": [],
   "source": [
    "def plot_vol(vol):\n",
    "    # for creating a responsive plot\n",
    "    %matplotlib widget\n",
    "\n",
    "    # importing required libraries\n",
    "    from mpl_toolkits.mplot3d import Axes3D\n",
    "    import matplotlib.pyplot as plt\n",
    "\n",
    "    #x,y,z = np.where(vol[:64,:64,:128]==1)\n",
    "    \n",
    "    x,y,z = np.where(vol==1)\n",
    "\n",
    "    # creating figure\n",
    "    fig = plt.figure()\n",
    "    ax = Axes3D(fig)\n",
    "\n",
    "    #ax.set_xlim3d(0, 10)\n",
    "    #ax.set_ylim3d(0, 10)\n",
    "    #ax.set_zlim3d(0, 10)\n",
    "\n",
    "    #ax.set_xlim3d(0, 140)\n",
    "    #ax.set_ylim3d(0, 140)\n",
    "    #ax.set_zlim3d(0, 140)\n",
    "\n",
    "    # creating the plot\n",
    "    ax.scatter(x, y, z, color='green',s=1)\n",
    "\n",
    "    #x,y,z = np.where(spc.sc.values()==0)\n",
    "    #plot_geeks = ax.scatter(x, y, z, color='red',s=1)\n",
    "\n",
    "    # setting title and labels\n",
    "    ax.set_title(\"3D plot\")\n",
    "    ax.set_xlabel('x-axis')\n",
    "    ax.set_ylabel('y-axis')\n",
    "    ax.set_zlabel('z-axis')\n",
    "    ax.grid()\n",
    "    \n",
    "    #make  0 origin coincide in all axis\n",
    "    ax.xaxis._axinfo['juggled'] = (0,0,0)\n",
    "    ax.yaxis._axinfo['juggled'] = (1,1,1)\n",
    "    ax.zaxis._axinfo['juggled'] = (2,2,2)\n",
    "    \n",
    "    ax.view_init(90, 0)\n",
    "\n",
    "    # displaying the plot\n",
    "    plt.show()"
   ]
  },
  {
   "cell_type": "code",
   "execution_count": 14,
   "id": "489d4d03",
   "metadata": {
    "ExecuteTime": {
     "end_time": "2022-05-02T19:21:30.060941Z",
     "start_time": "2022-05-02T19:21:29.973931Z"
    }
   },
   "outputs": [],
   "source": [
    "models = ['206_2d','211_2d']\n",
    "n_images = 15\n",
    "continuous = True\n",
    "scan_env = gym.make('ScannerEnv-v1', models_path='/home/pico/uni/romi/scanner-gym_models', train_models=models,\n",
    "                   n_images = n_images, continuous=continuous, gt_mode=True, cube_view='static')"
   ]
  },
  {
   "cell_type": "code",
   "execution_count": 15,
   "id": "33c6841d",
   "metadata": {
    "ExecuteTime": {
     "end_time": "2022-05-02T19:21:31.109505Z",
     "start_time": "2022-05-02T19:21:31.004822Z"
    }
   },
   "outputs": [
    {
     "name": "stdout",
     "output_type": "stream",
     "text": [
      "theta [8] phi [3]\n"
     ]
    },
    {
     "data": {
      "application/vnd.jupyter.widget-view+json": {
       "model_id": "832ec174715a49479eff2936843f0384",
       "version_major": 2,
       "version_minor": 0
      },
      "text/plain": [
       "Canvas(toolbar=Toolbar(toolitems=[('Home', 'Reset original view', 'home', 'home'), ('Back', 'Back to previous …"
      ]
     },
     "metadata": {},
     "output_type": "display_data"
    }
   ],
   "source": [
    "init_state = scan_env.reset()\n",
    "print('theta', init_state[2], 'phi', init_state[3])\n",
    "plot_vol(init_state[1])"
   ]
  },
  {
   "cell_type": "code",
   "execution_count": 86,
   "id": "90527664",
   "metadata": {
    "ExecuteTime": {
     "end_time": "2022-05-02T19:29:34.444879Z",
     "start_time": "2022-05-02T19:29:34.293879Z"
    }
   },
   "outputs": [
    {
     "name": "stdout",
     "output_type": "stream",
     "text": [
      "[ 0.8118322  -0.02541648]\n",
      "step 14 theta [151] phi [1] done True reward 0.011475940757546432 similarity 0.8158593231585932\n",
      "cumulative reward 0.7515195968444562\n"
     ]
    },
    {
     "data": {
      "application/vnd.jupyter.widget-view+json": {
       "model_id": "a4151efc010d49a59cb530b808634485",
       "version_major": 2,
       "version_minor": 0
      },
      "text/plain": [
       "Canvas(toolbar=Toolbar(toolitems=[('Home', 'Reset original view', 'home', 'home'), ('Back', 'Back to previous …"
      ]
     },
     "metadata": {},
     "output_type": "display_data"
    }
   ],
   "source": [
    "if continuous:\n",
    "    #rnd [-1,1]\n",
    "    action =2*np.random.rand(2)-1\n",
    "    print(action)\n",
    "    state, reward, done, _ = scan_env.step(action) \n",
    "else:    \n",
    "    state, reward, done, _ = scan_env.step(np.random.randint(scan_env.nA))\n",
    "    \n",
    "print('step', scan_env.num_steps, 'theta', state[2], 'phi', state[3],\n",
    "      'done', done,'reward', reward, 'similarity', scan_env.spc.gt_compare_solid())\n",
    "\n",
    "if done:\n",
    "    print('cumulative reward',scan_env.total_reward)\n",
    "    scan_env.reset()\n",
    "    \n",
    "plot_vol(state[1])"
   ]
  },
  {
   "cell_type": "code",
   "execution_count": 82,
   "id": "3bc3a240",
   "metadata": {
    "ExecuteTime": {
     "end_time": "2022-05-02T19:29:06.810239Z",
     "start_time": "2022-05-02T19:29:06.715015Z"
    }
   },
   "outputs": [
    {
     "data": {
      "image/png": "[encoded data removed]",
      "text/plain": [
       "<Figure size 432x288 with 1 Axes>"
      ]
     },
     "metadata": {
      "needs_background": "light"
     },
     "output_type": "display_data"
    }
   ],
   "source": [
    "%matplotlib inline\n",
    "plt.imshow(state[0][:,:,2],cmap='gray', vmin = 0, vmax = 255)\n",
    "plt.show()"
   ]
  },
  {
   "cell_type": "code",
   "execution_count": 59,
   "id": "cce59920",
   "metadata": {
    "ExecuteTime": {
     "end_time": "2022-05-02T19:04:53.475956Z",
     "start_time": "2022-05-02T19:04:53.470341Z"
    }
   },
   "outputs": [
    {
     "data": {
      "text/plain": [
       "array([0.52313996, 0.121021  ])"
      ]
     },
     "execution_count": 59,
     "metadata": {},
     "output_type": "execute_result"
    }
   ],
   "source": []
  },
  {
   "cell_type": "code",
   "execution_count": null,
   "id": "cab979f1",
   "metadata": {},
   "outputs": [],
   "source": []
  }
 ],
 "metadata": {
  "kernelspec": {
   "display_name": "Python [conda env:rl] *",
   "language": "python",
   "name": "conda-env-rl-py"
  },
  "language_info": {
   "codemirror_mode": {
    "name": "ipython",
    "version": 3
   },
   "file_extension": ".py",
   "mimetype": "text/x-python",
   "name": "python",
   "nbconvert_exporter": "python",
   "pygments_lexer": "ipython3",
   "version": "3.8.8"
  }
 },
 "nbformat": 4,
 "nbformat_minor": 5
}
