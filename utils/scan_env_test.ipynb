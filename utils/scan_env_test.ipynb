{
 "cells": [
  {
   "cell_type": "code",
   "execution_count": 1,
   "id": "7c9db917",
   "metadata": {
    "ExecuteTime": {
     "end_time": "2022-04-30T11:51:17.170610Z",
     "start_time": "2022-04-30T11:51:16.919261Z"
    }
   },
   "outputs": [],
   "source": [
    "import matplotlib.pyplot as plt\n",
    "import matplotlib\n",
    "\n",
    "import numpy as np\n",
    "import gym\n",
    "\n",
    "from scan_gym import envs\n",
    "#imp.reload(envs)\n",
    "\n",
    "seed=42\n",
    "np.random.seed(seed)\n",
    "\n",
    "import random"
   ]
  },
  {
   "cell_type": "code",
   "execution_count": 2,
   "id": "f0653ff9",
   "metadata": {
    "ExecuteTime": {
     "end_time": "2022-04-30T11:51:17.442672Z",
     "start_time": "2022-04-30T11:51:17.426954Z"
    }
   },
   "outputs": [],
   "source": [
    "def plot_vol(vol):\n",
    "    # for creating a responsive plot\n",
    "    %matplotlib widget\n",
    "\n",
    "    # importing required libraries\n",
    "    from mpl_toolkits.mplot3d import Axes3D\n",
    "    import matplotlib.pyplot as plt\n",
    "\n",
    "    #x,y,z = np.where(vol[:64,:64,:128]==1)\n",
    "    \n",
    "    x,y,z = np.where(vol==1)\n",
    "\n",
    "    # creating figure\n",
    "    fig = plt.figure()\n",
    "    ax = Axes3D(fig)\n",
    "\n",
    "    #ax.set_xlim3d(0, 10)\n",
    "    #ax.set_ylim3d(0, 10)\n",
    "    #ax.set_zlim3d(0, 10)\n",
    "\n",
    "    #ax.set_xlim3d(0, 140)\n",
    "    #ax.set_ylim3d(0, 140)\n",
    "    #ax.set_zlim3d(0, 140)\n",
    "\n",
    "    # creating the plot\n",
    "    ax.scatter(x, y, z, color='green',s=1)\n",
    "\n",
    "    #x,y,z = np.where(spc.sc.values()==0)\n",
    "    #plot_geeks = ax.scatter(x, y, z, color='red',s=1)\n",
    "\n",
    "    # setting title and labels\n",
    "    ax.set_title(\"3D plot\")\n",
    "    ax.set_xlabel('x-axis')\n",
    "    ax.set_ylabel('y-axis')\n",
    "    ax.set_zlabel('z-axis')\n",
    "    ax.grid()\n",
    "    \n",
    "    #make  0 origin coincide in all axis\n",
    "    ax.xaxis._axinfo['juggled'] = (0,0,0)\n",
    "    ax.yaxis._axinfo['juggled'] = (1,1,1)\n",
    "    ax.zaxis._axinfo['juggled'] = (2,2,2)\n",
    "    \n",
    "    ax.view_init(90, 0)\n",
    "\n",
    "    # displaying the plot\n",
    "    plt.show()"
   ]
  },
  {
   "cell_type": "code",
   "execution_count": 3,
   "id": "489d4d03",
   "metadata": {
    "ExecuteTime": {
     "end_time": "2022-04-30T11:51:19.434390Z",
     "start_time": "2022-04-30T11:51:18.258513Z"
    }
   },
   "outputs": [],
   "source": [
    "models = ['206_2d','211_2d']\n",
    "scan_env = gym.make('ScannerEnv-v1', models_path='/home/pico/uni/romi/scanner-gym_models', train_models=models)"
   ]
  },
  {
   "cell_type": "code",
   "execution_count": 4,
   "id": "90527664",
   "metadata": {
    "ExecuteTime": {
     "end_time": "2022-04-30T11:51:21.527228Z",
     "start_time": "2022-04-30T11:51:21.452714Z"
    }
   },
   "outputs": [
    {
     "name": "stdout",
     "output_type": "stream",
     "text": [
      "[14] [2]\n"
     ]
    }
   ],
   "source": [
    "state = scan_env.reset()\n",
    "print(state[2], state[3])"
   ]
  },
  {
   "cell_type": "code",
   "execution_count": 5,
   "id": "3bc3a240",
   "metadata": {
    "ExecuteTime": {
     "end_time": "2022-04-30T11:51:21.854986Z",
     "start_time": "2022-04-30T11:51:21.804374Z"
    }
   },
   "outputs": [
    {
     "data": {
      "application/vnd.jupyter.widget-view+json": {
       "model_id": "a49711ffc9b14ac3ae6983dc2a17dc45",
       "version_major": 2,
       "version_minor": 0
      },
      "text/plain": [
       "Canvas(toolbar=Toolbar(toolitems=[('Home', 'Reset original view', 'home', 'home'), ('Back', 'Back to previous …"
      ]
     },
     "metadata": {},
     "output_type": "display_data"
    }
   ],
   "source": [
    "plot_vol(state[1])"
   ]
  },
  {
   "cell_type": "code",
   "execution_count": 6,
   "id": "9f6722ee",
   "metadata": {
    "ExecuteTime": {
     "end_time": "2022-04-30T11:51:28.978364Z",
     "start_time": "2022-04-30T11:51:28.925932Z"
    }
   },
   "outputs": [
    {
     "name": "stdout",
     "output_type": "stream",
     "text": [
      "[59] [3] False {}\n"
     ]
    }
   ],
   "source": [
    "state = scan_env.step(23)\n",
    "print(state[0][2],state[0][3],state[2],state[3])"
   ]
  },
  {
   "cell_type": "code",
   "execution_count": 18,
   "id": "fbace258",
   "metadata": {
    "ExecuteTime": {
     "end_time": "2022-04-28T22:12:02.604607Z",
     "start_time": "2022-04-28T22:12:02.577059Z"
    }
   },
   "outputs": [
    {
     "data": {
      "application/vnd.jupyter.widget-view+json": {
       "model_id": "8e0ee8810f784c6e98adf0f2d0d41bee",
       "version_major": 2,
       "version_minor": 0
      },
      "text/plain": [
       "Canvas(toolbar=Toolbar(toolitems=[('Home', 'Reset original view', 'home', 'home'), ('Back', 'Back to previous …"
      ]
     },
     "metadata": {},
     "output_type": "display_data"
    }
   ],
   "source": [
    "plot_vol(state[0][1])"
   ]
  },
  {
   "cell_type": "code",
   "execution_count": 10,
   "id": "51c80248",
   "metadata": {
    "ExecuteTime": {
     "end_time": "2022-04-30T10:33:16.950011Z",
     "start_time": "2022-04-30T10:33:16.853969Z"
    }
   },
   "outputs": [
    {
     "data": {
      "image/png": "[encoded data removed]",
      "text/plain": [
       "<Figure size 432x288 with 1 Axes>"
      ]
     },
     "metadata": {
      "needs_background": "light"
     },
     "output_type": "display_data"
    }
   ],
   "source": [
    "%matplotlib inline\n",
    "plt.imshow(state[0][0][:,:,2],cmap='gray', vmin = 0, vmax = 255)\n",
    "plt.show()"
   ]
  },
  {
   "cell_type": "code",
   "execution_count": 94,
   "id": "d056b28a",
   "metadata": {
    "ExecuteTime": {
     "end_time": "2022-04-28T20:43:44.921637Z",
     "start_time": "2022-04-28T20:43:44.903808Z"
    }
   },
   "outputs": [
    {
     "data": {
      "text/plain": [
       "0.6698164146868251"
      ]
     },
     "execution_count": 94,
     "metadata": {},
     "output_type": "execute_result"
    }
   ],
   "source": [
    "scan_env.spc.gt_compare_solid()"
   ]
  },
  {
   "cell_type": "code",
   "execution_count": 20,
   "id": "58fa6113",
   "metadata": {
    "ExecuteTime": {
     "end_time": "2022-04-28T22:18:40.256296Z",
     "start_time": "2022-04-28T22:18:11.828256Z"
    }
   },
   "outputs": [],
   "source": [
    "for i in range(180*4):\n",
    "    state = scan_env.step(1)"
   ]
  },
  {
   "cell_type": "code",
   "execution_count": 8,
   "id": "77b2d450",
   "metadata": {
    "ExecuteTime": {
     "end_time": "2022-04-30T11:51:43.567229Z",
     "start_time": "2022-04-30T11:51:43.544159Z"
    }
   },
   "outputs": [],
   "source": [
    "im = scan_env.spc.get_image(0,0)"
   ]
  },
  {
   "cell_type": "code",
   "execution_count": 9,
   "id": "60c990cc",
   "metadata": {
    "ExecuteTime": {
     "end_time": "2022-04-30T11:51:47.351762Z",
     "start_time": "2022-04-30T11:51:47.346993Z"
    }
   },
   "outputs": [
    {
     "data": {
      "image/png": "[encoded data removed]",
      "text/plain": [
       "<PIL.Image.Image image mode=L size=84x84 at 0x7FA610581250>"
      ]
     },
     "execution_count": 9,
     "metadata": {},
     "output_type": "execute_result"
    }
   ],
   "source": [
    "im"
   ]
  },
  {
   "cell_type": "code",
   "execution_count": 10,
   "id": "c380af2f",
   "metadata": {
    "ExecuteTime": {
     "end_time": "2022-04-30T11:51:52.704748Z",
     "start_time": "2022-04-30T11:51:52.701844Z"
    }
   },
   "outputs": [
    {
     "data": {
      "text/plain": [
       "PIL.Image.Image"
      ]
     },
     "execution_count": 10,
     "metadata": {},
     "output_type": "execute_result"
    }
   ],
   "source": [
    "type(im)"
   ]
  },
  {
   "cell_type": "code",
   "execution_count": 7,
   "id": "9092d966",
   "metadata": {
    "ExecuteTime": {
     "end_time": "2022-04-30T11:51:36.745489Z",
     "start_time": "2022-04-30T11:51:36.412135Z"
    }
   },
   "outputs": [
    {
     "ename": "NameError",
     "evalue": "name 'im' is not defined",
     "output_type": "error",
     "traceback": [
      "\u001b[0;31m---------------------------------------------------------------------------\u001b[0m",
      "\u001b[0;31mNameError\u001b[0m                                 Traceback (most recent call last)",
      "Input \u001b[0;32mIn [7]\u001b[0m, in \u001b[0;36m<cell line: 1>\u001b[0;34m()\u001b[0m\n\u001b[0;32m----> 1\u001b[0m nim \u001b[38;5;241m=\u001b[39m np\u001b[38;5;241m.\u001b[39marray(\u001b[43mim\u001b[49m)\n\u001b[1;32m      2\u001b[0m get_ipython()\u001b[38;5;241m.\u001b[39mrun_line_magic(\u001b[38;5;124m'\u001b[39m\u001b[38;5;124mmatplotlib\u001b[39m\u001b[38;5;124m'\u001b[39m, \u001b[38;5;124m'\u001b[39m\u001b[38;5;124minline\u001b[39m\u001b[38;5;124m'\u001b[39m)\n\u001b[1;32m      3\u001b[0m plt\u001b[38;5;241m.\u001b[39mimshow(nim,cmap\u001b[38;5;241m=\u001b[39m\u001b[38;5;124m'\u001b[39m\u001b[38;5;124mgray\u001b[39m\u001b[38;5;124m'\u001b[39m, vmin \u001b[38;5;241m=\u001b[39m \u001b[38;5;241m0\u001b[39m, vmax \u001b[38;5;241m=\u001b[39m \u001b[38;5;241m255\u001b[39m)\n",
      "\u001b[0;31mNameError\u001b[0m: name 'im' is not defined"
     ]
    }
   ],
   "source": [
    "nim = np.array(im)\n",
    "%matplotlib inline\n",
    "plt.imshow(nim,cmap='gray', vmin = 0, vmax = 255)\n",
    "plt.show()"
   ]
  },
  {
   "cell_type": "code",
   "execution_count": null,
   "id": "8b6136c5",
   "metadata": {
    "ExecuteTime": {
     "start_time": "2022-04-30T11:53:51.028Z"
    }
   },
   "outputs": [],
   "source": [
    "for i in range(10000):\n",
    "    state = scan_env.step(random.randint(0, 23))\n",
    "    if state[2] == True:\n",
    "        scan_env.reset()"
   ]
  },
  {
   "cell_type": "code",
   "execution_count": 7,
   "id": "91a0f5a5",
   "metadata": {
    "ExecuteTime": {
     "end_time": "2022-04-30T09:51:07.425618Z",
     "start_time": "2022-04-30T09:51:07.407795Z"
    }
   },
   "outputs": [
    {
     "data": {
      "text/plain": [
       "0.048"
      ]
     },
     "execution_count": 7,
     "metadata": {},
     "output_type": "execute_result"
    }
   ],
   "source": [
    "(14*60)/10000"
   ]
  },
  {
   "cell_type": "code",
   "execution_count": 12,
   "id": "ff6228d8",
   "metadata": {
    "ExecuteTime": {
     "end_time": "2022-04-30T11:26:19.940865Z",
     "start_time": "2022-04-30T11:26:19.934443Z"
    }
   },
   "outputs": [],
   "source": [
    "def minMaxNorm(old, oldmin, oldmax , newmin , newmax):\n",
    "        return ( (old-oldmin)*(newmax-newmin)/(oldmax-oldmin) ) + newmin\n",
    "\n",
    "def theta_from_continuous(cont):\n",
    "    return int(minMaxNorm(cont,-1.0,+1.0,0,179))"
   ]
  },
  {
   "cell_type": "code",
   "execution_count": 27,
   "id": "2802131a",
   "metadata": {
    "ExecuteTime": {
     "end_time": "2022-04-30T11:30:04.105214Z",
     "start_time": "2022-04-30T11:30:04.099736Z"
    }
   },
   "outputs": [
    {
     "data": {
      "text/plain": [
       "178"
      ]
     },
     "execution_count": 27,
     "metadata": {},
     "output_type": "execute_result"
    }
   ],
   "source": [
    "theta_from_continuous(.989)"
   ]
  },
  {
   "cell_type": "code",
   "execution_count": null,
   "id": "870e9ac2",
   "metadata": {},
   "outputs": [],
   "source": []
  }
 ],
 "metadata": {
  "kernelspec": {
   "display_name": "Python [conda env:rl] *",
   "language": "python",
   "name": "conda-env-rl-py"
  },
  "language_info": {
   "codemirror_mode": {
    "name": "ipython",
    "version": 3
   },
   "file_extension": ".py",
   "mimetype": "text/x-python",
   "name": "python",
   "nbconvert_exporter": "python",
   "pygments_lexer": "ipython3",
   "version": "3.8.8"
  }
 },
 "nbformat": 4,
 "nbformat_minor": 5
}
